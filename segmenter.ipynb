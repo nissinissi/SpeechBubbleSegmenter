{
  "nbformat": 4,
  "nbformat_minor": 0,
  "metadata": {
    "accelerator": "GPU",
    "colab": {
      "name": "segmenter.ipynb",
      "provenance": [],
      "collapsed_sections": []
    },
    "kernelspec": {
      "display_name": "Python 3",
      "name": "python3"
    }
  },
  "cells": [
    {
      "cell_type": "code",
      "metadata": {
        "colab": {
          "base_uri": "https://localhost:8080/"
        },
        "id": "9Fvrho7PWxqs",
        "outputId": "b7030413-05fb-4e75-f363-2e8a5a264d4b"
      },
      "source": [
        "import tensorflow as tf\n",
        "from tensorflow import keras as ks\n",
        "# from keras import models as md\n",
        "from keras import layers as ly\n",
        "import numpy as np\n",
        "import cv2\n",
        "from skimage import io\n",
        "from google.colab import drive\n",
        "import os\n",
        "import keras.backend as kb\n",
        "drive.mount(\"/content/drive/\")"
      ],
      "execution_count": null,
      "outputs": [
        {
          "output_type": "stream",
          "text": [
            "Drive already mounted at /content/drive/; to attempt to forcibly remount, call drive.mount(\"/content/drive/\", force_remount=True).\n"
          ],
          "name": "stdout"
        }
      ]
    },
    {
      "cell_type": "code",
      "metadata": {
        "id": "VhdwRwhRaZEp"
      },
      "source": [
        "# U-net settings :O\n",
        "\n",
        "sz = (\n",
        "  (768, 544),\n",
        "  (448, 320),\n",
        "  (320, 224),\n",
        "  (224, 160)\n",
        ")\n",
        "IMG_H, IMG_W = sz[2]     #  must be integers divisible by pow(2,number_of_layers)\n"
      ],
      "execution_count": null,
      "outputs": []
    },
    {
      "cell_type": "markdown",
      "metadata": {
        "id": "xmIa3UOvobVZ"
      },
      "source": [
        "## data preparation"
      ]
    },
    {
      "cell_type": "code",
      "metadata": {
        "id": "LrT69-OLkaZM"
      },
      "source": [
        "def padding(img, dh, dw):\n",
        "  ''' adds black bars at the borders of the image to fit its size '''\n",
        "\n",
        "  h,w = np.shape(img)[:2]\n",
        "  start_h = (dh-h)//2\n",
        "  start_w = (dw-w)//2\n",
        "  imres = np.full((dh,dw,3), (0,0,0), dtype=np.uint8)\n",
        "  imres[start_h : start_h+h, start_w : start_w+w] = img\n",
        "  return imres\n",
        "\n",
        "def im_resize(img, dh=IMG_H, dw=IMG_W):\n",
        "  ''' receives an image and returns a resized version of shape (dh, dw) '''\n",
        "\n",
        "  h,w = np.shape(img)[:2]\n",
        "  return im_resize1(img, h, w, dh, dw)\n",
        "\n",
        "def im_resize0(img, h, w, dh, dw):\n",
        "  ''' image resizing using bilinear interpolation and padding. '''\n",
        "  \n",
        "  if h/w > dh/dw:    # make the image shorter\n",
        "      img = cv2.resize(img, ((w*dh)//h, dh))\n",
        "  else:      # make the image taller\n",
        "      img = cv2.resize(img, (dw, (h*dw)//w))\n",
        "  return padding(img, dh, dw)\n",
        "\n",
        "def im_resize1(img, h, w, dh, dw):\n",
        "\n",
        "  return cv2.resize(img, (dw, dh))\n"
      ],
      "execution_count": null,
      "outputs": []
    },
    {
      "cell_type": "code",
      "metadata": {
        "id": "Al04Hj53GvsY"
      },
      "source": [
        "def prepare_data(train_p, test_p, verbose=False, saveToFile=False):\n",
        "  ''' read images and divide them to train, test and validation portions '''\n",
        "\n",
        "  file_path = r\"/content/drive/MyDrive/finished/version2\"\n",
        "\n",
        "  imgs = []\n",
        "  lbls = []\n",
        "  counter = 0\n",
        "  for fn in os.listdir(f\"{file_path}/data\"):\n",
        "    counter+=1\n",
        "    if verbose:     # print the numbers of the files which are being loaded\n",
        "      print(f'{counter}, ', end=(not counter%10)*'\\n')\n",
        "    \n",
        "    img_i = cv2.imread(f\"{file_path}/data/{fn}\")\n",
        "    if len(np.shape(img_i))==3:\n",
        "      # for reasons unbeknownst to yours truly, cv2 reads images in the color\n",
        "      # order BGR and not RGB\n",
        "      img_i = np.flip(img_i, 2)\n",
        "\n",
        "    img_i = im_resize(img_i)\n",
        "    img_i = cv2.normalize(img_i.astype('float'), None, 0.0, 1.0, cv2.NORM_MINMAX)\n",
        "    imgs.append(img_i)\n",
        "    imgs.append(cv2.flip(img_i,1))\n",
        "\n",
        "    lbl_i = cv2.imread(f\"{file_path}/labels/{fn}\")\n",
        "    lbl_i = im_resize(lbl_i)\n",
        "    r,g,b = lbl_i[:,:,0], lbl_i[:,:,1], lbl_i[:,:,2]\n",
        "    rs = (r>=240) & (g<=15) & (b<=15)\n",
        "    gs = (g>=240) & (b<=15) & (r<=15)\n",
        "    bs = (b>=240) & (r<=15) & (g<=15)\n",
        "    sp_locs = rs | gs | bs\n",
        "    lbls.append(sp_locs)\n",
        "    lbls.append(np.flip(sp_locs, 1))\n",
        "\n",
        "  imgs = np.asarray(imgs)\n",
        "  lbls = np.asarray(lbls)\n",
        "  sh = np.shape(imgs)[0]\n",
        "  xs = np.arange(0,sh)\n",
        "  np.random.shuffle(xs)   # xs is now a permutation which is of the same length as the image count\n",
        "\n",
        "  tr_p = int(train_p*len(imgs))     # the number of images to be used for training\n",
        "  te_p = int((train_p+test_p)*len(imgs))     # the number of images to be used for testing\n",
        "  tr_i = xs[ : tr_p]\n",
        "  te_i = xs[tr_p : te_p]\n",
        "  va_i = xs[te_p : ]\n",
        "\n",
        "  train = (imgs[tr_i], lbls[tr_i])    # train data\n",
        "  test  = (imgs[te_i], lbls[te_i])    # test data\n",
        "  valid = (imgs[va_i], lbls[va_i])    # validation data\n",
        "\n",
        "  cnt=0\n",
        "  #for ds in (train,test,valid):\n",
        "   # for img,lbl in zip(ds[0], ds[1]):\n",
        "    #  cnt += 1\n",
        "     # np.append(ds[0], [np.flip(img,1)])\n",
        "      # np.append(ds[1], [np.flip(lbl,1)])\n",
        "\n",
        "      #if saveToFile:\n",
        "       # io.imsave(f'{file_path}/load/{cnt}1.jpg', np.asarray(255*img,dtype=np.uint8))\n",
        "        #io.imsave(f'{file_path}/load/{cnt}2.jpg', np.asarray(255*lbl,dtype=np.uint8))\n",
        "        # io.imsave(f'{file_path}/load/{fn[:-4]}3.jpg', np.full((IMG_H,IMG_W),255, dtype=np.uint8)*sp_locs)\n",
        "\n",
        "  print(cnt)\n",
        "  return train, test, valid\n"
      ],
      "execution_count": null,
      "outputs": []
    },
    {
      "cell_type": "code",
      "metadata": {
        "colab": {
          "base_uri": "https://localhost:8080/"
        },
        "id": "73V1axK3Lnvn",
        "outputId": "63aaaacd-eed0-4712-fd40-66a4e5f6ca45"
      },
      "source": [
        "train, test, valid = prepare_data(0.7, 0.3, verbose=True, saveToFile=True)"
      ],
      "execution_count": null,
      "outputs": [
        {
          "output_type": "stream",
          "text": [
            "1, 2, 3, 4, 5, 6, 7, 8, 9, 10, \n",
            "11, 12, 13, 14, 15, 16, 17, 18, 19, 20, \n",
            "21, 22, 23, 24, 25, 26, 27, 28, 29, 30, \n",
            "31, 32, 33, 34, 35, 36, 37, 38, 39, 40, \n",
            "41, 42, 43, 44, 45, 46, 47, 0\n"
          ],
          "name": "stdout"
        }
      ]
    },
    {
      "cell_type": "markdown",
      "metadata": {
        "id": "0xi1RrpboEgV"
      },
      "source": [
        "## unet definition"
      ]
    },
    {
      "cell_type": "code",
      "metadata": {
        "id": "z_OBPfHH7nUg"
      },
      "source": [
        "class Encoder:  # the contracting path\n",
        "\tdef __init__(self, input_h, input_w, channels, _lyr_cnt):\n",
        "\t\tself.h = input_h\n",
        "\t\tself.w = input_w\n",
        "\t\tself.c = channels\n",
        "\t\tself.lyr_cnt = _lyr_cnt\n",
        "\n",
        "\tdef lyr(self, i, ops):\n",
        "\t\tl = eval(\"self._lyr%d(ops)\" % i)   # will raise a suitable error if no such function exists\n",
        "\t\treturn l\n"
      ],
      "execution_count": null,
      "outputs": []
    },
    {
      "cell_type": "code",
      "metadata": {
        "id": "dFtvRlRFOygG"
      },
      "source": [
        "class VGG_Encoder(Encoder):\n",
        "\tdef __init__(self, input_h, input_w, channels, _drop_out=False, _batch_norm=False):\n",
        "\t\tsuper().__init__(input_h, input_w, channels, 5)\n",
        "\t\tassert input_h % (2 ** self.lyr_cnt) == 0\n",
        "\t\tassert input_w % (2 ** self.lyr_cnt) == 0\n",
        "\t\tself.drop_out = _drop_out\n",
        "\t\tself.batch_norm = _batch_norm\n",
        "\n",
        "\tdef conv(self, ops, filters):\n",
        "\t\tops = ly.Conv2D(filters, (3, 3), activation=\"relu\", padding=\"same\", kernel_initializer = 'he_normal')(ops)\n",
        "\t\tif self.batch_norm:\n",
        "\t\t\tops = ly.BatchNormalization()(ops)\n",
        "\t\tif self.drop_out:\n",
        "\t\t\tops = ly.Dropout(0.2)(ops)\n",
        "\t\treturn ops\n",
        "\n",
        "\tdef _lyr1(self, ops):\n",
        "\t\tfor _ in range(2):\n",
        "\t\t\tops = self.conv(ops, 64)\n",
        "\t\treturn ops\n",
        "\n",
        "\tdef _lyr2(self, ops):\n",
        "\t\tops = ly.MaxPooling2D(pool_size=(2, 2), strides=(2, 2))(ops)\n",
        "\t\tfor _ in range(2):\n",
        "\t\t\tops = self.conv(ops, 128)\n",
        "\t\treturn ops\n",
        "\n",
        "\tdef _lyr3(self, ops):\n",
        "\t\tops = ly.MaxPooling2D(pool_size=(2, 2), strides=(2, 2))(ops)\n",
        "\t\tfor _ in range(3):\n",
        "\t\t\tops = self.conv(ops, 256)\n",
        "\t\treturn ops\n",
        "\n",
        "\tdef _lyr4(self, ops):\n",
        "\t\tops = ly.MaxPooling2D(pool_size=(2, 2), strides=(2, 2))(ops)\n",
        "\t\tfor _ in range(2):\n",
        "\t\t\tops = self.conv(ops, 512)\n",
        "\t\treturn ops\n",
        "\n",
        "\tdef _lyr5(self, ops):\n",
        "\t\tops = ly.MaxPooling2D(pool_size=(2, 2), strides=(2, 2))(ops)\n",
        "\t\tfor _ in range(2):\n",
        "\t\t\tops = self.conv(ops, 1024)\n",
        "\t\treturn ops\n",
        "\n",
        "\tdef load_weights(weights_url=None):\n",
        "\t\tvgg_weights = keras.utils.get_file(weights_url.split(\"/\")[-1], weights_url)\n",
        "\t\tModel(img_input, x).load_weights(vgg_weights, by_name=True, skip_mismatch=True)\n"
      ],
      "execution_count": null,
      "outputs": []
    },
    {
      "cell_type": "code",
      "metadata": {
        "id": "b6K0xjH08cx2"
      },
      "source": [
        "import numpy as np\n",
        "from tensorflow import keras as ks\n",
        "import cv2\n",
        "# from encoder import Encoder\n",
        "# from data import im_resize\n",
        "# from unet_settings import *\n",
        "\n",
        "\n",
        "class Unet:\n",
        "\tdef __init__(self, height, width, channels, encoder=None):\n",
        "\t\t''' initialize the unet '''\n",
        "\n",
        "\t\tif encoder is None:\n",
        "\t\t\tencoder = Encoder(height, width, channels, 5)\n",
        "\t\tself.encoder = encoder\n",
        "\t\t(self.h, self.w, self.c) = (height, width, channels)\n",
        "\t\tself.model = ks.Model()\n",
        "\n",
        "\tdef encode(self):\n",
        "\t\t''' the contracting path '''\n",
        "\n",
        "\t\tf = [ks.Input((self.h, self.w, self.c))]\n",
        "\t\tfor i in range(1, self.encoder.lyr_cnt + 1):\n",
        "\t\t\tops = self.encoder.lyr(i, f[-1])\n",
        "\t\t\tif i>=4:\n",
        "\t\t\t\tops = ly.Dropout(0.5)(ops)\n",
        "\t\t\tf.append(ops)\n",
        "\t\treturn f\n",
        "\n",
        "\tdef set_options(self, loss=None):\n",
        "\t\t''' compile the model '''\n",
        "\n",
        "\t\toptimizer = ks.optimizers.Adam(learning_rate=0.0001)\n",
        "\t\t# optimizer = ks.optimizers.Adam(learning_rate=0.0005) # THIS IS THE GOOD ONE\n",
        "\t\tif loss is None:\n",
        "\t\t\tloss = ks.losses.binary_crossentropy\n",
        "\t\tself.model.compile(optimizer, loss, metrics=[\"acc\"])\n",
        "\t\n",
        "\t\n",
        "\tdef train(self, train_data, train_labels, file_name=\"best_weights.h5\",\n",
        "\t\t\t\t\t\t verbose=True, bsize=32):\n",
        "\t\t''' in this method the model is trained!\n",
        "\t\ttrain data and labels are passed as arguments.\n",
        "\t\tfile_name is where the trained weights will be saved\n",
        "\t\t'''\n",
        "\t\n",
        "    # callbacks = [\n",
        "\t\t# \tks.callbacks.ReduceLROnPlateau(factor=0.3, patience=5, min_lr=1e-6, verbose=verbose),\n",
        "\t\t# ]\n",
        "\t\tmodel_checkpoint = ks.callbacks.ModelCheckpoint('best_weights.h5', monitor='loss', verbose=verbose, save_best_only=True)\n",
        "\t\tself.model.fit(train_data, train_labels, epochs=15, steps_per_epoch=150, \\\n",
        "                 batch_size=bsize, callbacks=[model_checkpoint])\n",
        "\t\n",
        "\t\n",
        "\tdef train1(self, train_data, train_labels, valid_data, valid_labels, file_name=\"best_weights.h5\",\n",
        "\t\t\t\t\t\t verbose=True):\n",
        "\t\tcallbacks = [\n",
        "\t\t\tks.callbacks.ReduceLROnPlateau(factor=0.3, patience=5, min_lr=1e-5, verbose=verbose),\n",
        "\t\t\t# ks.callbacks.ModelCheckpoint(file_name, verbose=verbose, save_best_only=True, \\\n",
        "\t\t\t# \t\t\t\t\t\t\t save_weights_only=True)\n",
        "\t\t]\n",
        "\t\tresults = self.model.fit(train_data, train_labels, epochs=25, callbacks=callbacks, \\\n",
        "\t\t\t\t\t\t\t\t\t\t\t\t\t\t validation_data=(valid_data, valid_labels), \\\n",
        "\t\t\t\t\t\t\t\t\t\t\t\t\t\t steps_per_epoch=3)\n",
        "\t\n",
        "\t\n",
        "\tdef predict_segmentation(self, img):\n",
        "\t\t''' predict the locations of  '''\n",
        "\t\n",
        "\t\th, w = np.shape(img)[:2]\n",
        "\t\tpred = self.model.predict(np.array([img]))\n",
        "\t\treturn pred\n",
        "\t\n",
        "\t\n",
        "\tdef load_weights(self, weights_dir):\n",
        "\t\tself.model.load_weights(weights_dir)\n"
      ],
      "execution_count": null,
      "outputs": []
    },
    {
      "cell_type": "code",
      "metadata": {
        "id": "VZgyS1qLDZnJ"
      },
      "source": [
        "import tensorflow as tf\n",
        "from tensorflow import keras as ks\n",
        "from tensorflow.keras import layers as ly\n",
        "\n",
        "\n",
        "class VGG_Unet(Unet):\n",
        "\tdef __init__(self, height, width, channels, encoder=None):\n",
        "\t\tif encoder is None:\n",
        "\t\t\tencoder = VGG_Encoder(height, width, channels)\n",
        "\t\tsuper().__init__(height, width, channels, encoder)\n",
        "\n",
        "\tdef process(self):  # encode and decode\n",
        "\t\tenc = self.encode()\n",
        "\n",
        "\t\tdec = [None] * 4\n",
        "\t\tdropout = 0.2     # the frequency at which inputs are ignored\n",
        "\t\tlast = enc[5]\n",
        "\n",
        "\t\tdec[0] = ly.UpSampling2D(size=(2, 2))(last)\n",
        "\t\tdec[0] = self.encoder.conv(dec[0], 512)\n",
        "\t\tdec[0] = ly.Concatenate(axis=-1)([dec[0], enc[4]])\n",
        "\t\tfor _ in range(2):\n",
        "\t\t\tdec[0] = self.encoder.conv(dec[0], 512)\n",
        "\n",
        "\t\tdec[1] = ly.UpSampling2D(size=(2, 2))(dec[0])\n",
        "\t\tdec[1] = self.encoder.conv(dec[1], 256)\n",
        "\t\tdec[1] = ly.Concatenate(axis=-1)([dec[1], enc[3]])\n",
        "\t\tfor _ in range(2):\n",
        "\t\t\tdec[1] = self.encoder.conv(dec[1], 256)\n",
        "\n",
        "\t\tdec[2] = ly.UpSampling2D(size=(2, 2))(dec[1])\n",
        "\t\tdec[2] = self.encoder.conv(dec[2], 128)\n",
        "\t\tdec[2] = ly.Concatenate(axis=-1)([dec[2], enc[2]])\n",
        "\t\tfor _ in range(2):\n",
        "\t\t\tdec[2] = self.encoder.conv(dec[2], 128)\n",
        "\n",
        "\t\tdec[3] = ly.UpSampling2D(size=(2, 2))(dec[2])\n",
        "\t\tdec[3] = self.encoder.conv(dec[3], 64)\n",
        "\t\tdec[3] = ly.Concatenate(axis=-1)([dec[3], enc[1]])\n",
        "\t\tfor _ in range(2):\n",
        "\t\t\tdec[3] = self.encoder.conv(dec[3], 64)\n",
        "\n",
        "\t\touts = ly.Conv2D(1, (1, 1), padding=\"same\", activation=\"sigmoid\")(dec[3])\n",
        "\n",
        "\t\tself.model = ks.Model(inputs=[enc[0]], outputs=[outs])\n"
      ],
      "execution_count": null,
      "outputs": []
    },
    {
      "cell_type": "code",
      "metadata": {
        "id": "hj6AS7YoXZ7B"
      },
      "source": [
        "import tensorflow.keras.backend as K\n",
        "def dice_loss(pred, truth, square=True):\n",
        "  ''' a popular loss function for computer vision problems. from this article:\n",
        "  https://arxiv.org/pdf/1606.04797v1.pdf '''\n",
        "\n",
        "  pred = tf.cast(pred, tf.float32)    # by default it's a bool, which doesn't have useful ks.backend methods\n",
        "  pred = K.flatten(pred)\n",
        "  truth = K.flatten(truth)\n",
        "  if square:\n",
        "    pred = K.square(pred)\n",
        "    truth = K.square(truth)\n",
        "  intersection = K.sum(truth * pred)\n",
        "  return 1 - (2. * intersection + 1) / (K.sum(truth) + K.sum(pred) + 1)\n",
        "\n",
        "\n",
        "def tversky_loss(pred, truth, alpha=0.7, beta=0.3, square=False):\n",
        "  pred = tf.cast(pred, tf.float32)    # by default it's a bool, which doesn't have useful ks.backend methods\n",
        "  pred = K.flatten(pred)\n",
        "  truth = K.flatten(truth)\n",
        "  if square:     # seems to work better with square=False\n",
        "    pred = K.square(pred)\n",
        "    truth = K.square(truth)\n",
        "  TP = K.sum(truth * pred)      # true positive\n",
        "  FP = K.sum((1-truth)*pred)      # false positive\n",
        "  FN = K.sum(truth*(1-pred))      # false negative\n",
        "  return 1 - (1 + TP) / (1 + TP + alpha*FP + beta*FN)\n",
        "\n",
        "\n",
        "def WS(pred, truth):\n",
        "  return ks.losses.binary_crossentropy(pred, truth) + \\\n",
        "    dice_loss(pred, truth)"
      ],
      "execution_count": null,
      "outputs": []
    },
    {
      "cell_type": "markdown",
      "metadata": {
        "id": "v2fNl_a5xHGg"
      },
      "source": [
        "## model instantiation & training"
      ]
    },
    {
      "cell_type": "code",
      "metadata": {
        "id": "xlAZT5KIX0C7"
      },
      "source": [
        "loss_f = WS\n",
        "dropout = False\n",
        "batch_norm = True\n",
        "\n",
        "unet_enc = VGG_Encoder(IMG_H, IMG_W, 3, _drop_out=dropout, _batch_norm=batch_norm)\n",
        "unet = VGG_Unet(IMG_H, IMG_W, 3, unet_enc)\n",
        "unet.process()\n",
        "unet.set_options(loss_f)"
      ],
      "execution_count": null,
      "outputs": []
    },
    {
      "cell_type": "code",
      "metadata": {
        "id": "oTWEhzZEorZQ"
      },
      "source": [
        "unet.model.summary()"
      ],
      "execution_count": null,
      "outputs": []
    },
    {
      "cell_type": "code",
      "metadata": {
        "id": "5SEuF0Uir8OZ"
      },
      "source": [
        "d0 = np.concatenate([train[0]]*3)\n",
        "d1 = np.concatenate([train[1]]*3)\n",
        "doubtra = (d0,d1)"
      ],
      "execution_count": null,
      "outputs": []
    },
    {
      "cell_type": "code",
      "metadata": {
        "colab": {
          "base_uri": "https://localhost:8080/"
        },
        "id": "z9e6Dn9PYCAE",
        "outputId": "9a139167-9d30-4718-b57d-54cde1a38e32"
      },
      "source": [
        "# training the U-net. don't run this, or you'll have to wait some time.\n",
        "unet.train(*doubtra, verbose=True, bsize=2)\n",
        "unet.model.load_weights(\"best_weights.h5\")"
      ],
      "execution_count": null,
      "outputs": [
        {
          "output_type": "stream",
          "text": [
            "Epoch 1/15\n",
            "150/150 [==============================] - 68s 205ms/step - loss: 1.1691 - acc: 0.7597\n",
            "\n",
            "Epoch 00001: loss improved from inf to 0.87031, saving model to best_weights.h5\n",
            "Epoch 2/15\n",
            "150/150 [==============================] - 29s 194ms/step - loss: 0.4562 - acc: 0.9672\n",
            "\n",
            "Epoch 00002: loss improved from 0.87031 to 0.41267, saving model to best_weights.h5\n",
            "Epoch 3/15\n",
            "150/150 [==============================] - 30s 198ms/step - loss: 0.2670 - acc: 0.9845\n",
            "\n",
            "Epoch 00003: loss improved from 0.41267 to 0.23499, saving model to best_weights.h5\n",
            "Epoch 4/15\n",
            "150/150 [==============================] - 29s 195ms/step - loss: 0.1528 - acc: 0.9928\n",
            "\n",
            "Epoch 00004: loss improved from 0.23499 to 0.14240, saving model to best_weights.h5\n",
            "Epoch 5/15\n",
            "150/150 [==============================] - 29s 195ms/step - loss: 0.1230 - acc: 0.9936\n",
            "\n",
            "Epoch 00005: loss improved from 0.14240 to 0.13056, saving model to best_weights.h5\n",
            "Epoch 6/15\n",
            "150/150 [==============================] - 29s 196ms/step - loss: 0.1041 - acc: 0.9943\n",
            "\n",
            "Epoch 00006: loss improved from 0.13056 to 0.09415, saving model to best_weights.h5\n",
            "Epoch 7/15\n",
            "150/150 [==============================] - 29s 196ms/step - loss: 0.0831 - acc: 0.9961\n",
            "\n",
            "Epoch 00007: loss improved from 0.09415 to 0.07996, saving model to best_weights.h5\n",
            "Epoch 8/15\n",
            "150/150 [==============================] - 29s 195ms/step - loss: 0.0591 - acc: 0.9963\n",
            "\n",
            "Epoch 00008: loss improved from 0.07996 to 0.05743, saving model to best_weights.h5\n",
            "Epoch 9/15\n",
            "150/150 [==============================] - 29s 196ms/step - loss: 0.0463 - acc: 0.9980\n",
            "\n",
            "Epoch 00009: loss improved from 0.05743 to 0.04687, saving model to best_weights.h5\n",
            "Epoch 10/15\n",
            "120/150 [=======================>......] - ETA: 5s - loss: 0.0836 - acc: 0.9942WARNING:tensorflow:Your input ran out of data; interrupting training. Make sure that your dataset or generator can generate at least `steps_per_epoch * epochs` batches (in this case, 2250 batches). You may need to use the repeat() function when building your dataset.\n",
            "150/150 [==============================] - 23s 156ms/step - loss: 0.0894 - acc: 0.9935\n",
            "\n",
            "Epoch 00010: loss did not improve from 0.04687\n"
          ],
          "name": "stdout"
        }
      ]
    },
    {
      "cell_type": "code",
      "metadata": {
        "id": "hfd61hQTa2tw"
      },
      "source": [
        "# saving the weights file\n",
        "\n",
        "weights_addr = \"/content/drive/MyDrive/finished/weights\"\n",
        "!bash -c \"cp '/content/best_weights.h5' '{weights_addr}/weights9994.h5'\""
      ],
      "execution_count": null,
      "outputs": []
    },
    {
      "cell_type": "markdown",
      "metadata": {
        "id": "nKKOtUqwxLhG"
      },
      "source": [
        "## testing"
      ]
    },
    {
      "cell_type": "code",
      "metadata": {
        "id": "lOkGoE9-17Cj"
      },
      "source": [
        "weights_addr = \"/content/drive/MyDrive/finished/weights/\"\n",
        "unet.model.load_weights(f\"{weights_addr}/weights9994.h5\")"
      ],
      "execution_count": null,
      "outputs": []
    },
    {
      "cell_type": "code",
      "metadata": {
        "colab": {
          "base_uri": "https://localhost:8080/"
        },
        "id": "RA0k5J2kHMd3",
        "outputId": "193a0054-2c74-4e01-9161-5ca4b9d7425e"
      },
      "source": [
        "# train, test, valid = prepare_data(0.6, 0.2)\n",
        "model = unet.model\n",
        "train_res = model.predict(train[0], verbose=True)\n",
        "# valid_res = model.predict(valid[0], verbose=True)\n",
        "test_res = model.predict(test[0], verbose=True)\n",
        "\n",
        "# threshold = np.median(train_res)\n",
        "# train_binary = np.where(train_res>threshold, 1, 0)\n",
        "# test_binary = np.where(test_res>threshold, 1, 0)"
      ],
      "execution_count": null,
      "outputs": [
        {
          "output_type": "stream",
          "text": [
            "3/3 [==============================] - 2s 671ms/step\n",
            "1/1 [==============================] - 1s 605ms/step\n"
          ],
          "name": "stdout"
        }
      ]
    },
    {
      "cell_type": "code",
      "metadata": {
        "colab": {
          "base_uri": "https://localhost:8080/",
          "height": 315
        },
        "id": "CHraeqyotqmz",
        "outputId": "1c0aa0b8-d37c-43e6-80d5-86de4a9d09d4"
      },
      "source": [
        "io.imshow(test[0][0])"
      ],
      "execution_count": null,
      "outputs": [
        {
          "output_type": "execute_result",
          "data": {
            "text/plain": [
              "<matplotlib.image.AxesImage at 0x7f880238d190>"
            ]
          },
          "metadata": {
            "tags": []
          },
          "execution_count": 83
        },
        {
          "output_type": "display_data",
          "data": {
            "image/png": "[encoded data removed]",
            "text/plain": [
              "<Figure size 432x288 with 1 Axes>"
            ]
          },
          "metadata": {
            "tags": [],
            "needs_background": "light"
          }
        }
      ]
    },
    {
      "cell_type": "code",
      "metadata": {
        "colab": {
          "base_uri": "https://localhost:8080/",
          "height": 315
        },
        "id": "Yd1Y9yb9ttNP",
        "outputId": "40889163-7054-426d-8464-7863249dec90"
      },
      "source": [
        "io.imshow(test_res[0,:,:,0])"
      ],
      "execution_count": null,
      "outputs": [
        {
          "output_type": "execute_result",
          "data": {
            "text/plain": [
              "<matplotlib.image.AxesImage at 0x7f88023b4290>"
            ]
          },
          "metadata": {
            "tags": []
          },
          "execution_count": 85
        },
        {
          "output_type": "display_data",
          "data": {
            "image/png": "[encoded data removed]",
            "text/plain": [
              "<Figure size 432x288 with 1 Axes>"
            ]
          },
          "metadata": {
            "tags": [],
            "needs_background": "light"
          }
        }
      ]
    },
    {
      "cell_type": "markdown",
      "metadata": {
        "id": "vq-5fP2Qaryj"
      },
      "source": [
        "## evaluation"
      ]
    },
    {
      "cell_type": "code",
      "metadata": {
        "id": "AUgYBQ2cMMwg"
      },
      "source": [
        "def recall(pred, truth):\n",
        "  pred = pred > 0.5\n",
        "  TP = np.average(truth*pred)\n",
        "  FP = np.average((1-truth)*pred)\n",
        "  FN = np.average(truth*(1-pred))\n",
        "  TN = np.average((1-truth)*(1-pred))\n",
        "  if TP+FN==0: return 1\n",
        "  return TP / (TP+FN)\n",
        "\n",
        "def precision(pred, truth):\n",
        "  pred = pred > 0.5\n",
        "  TP = np.average(truth*pred)\n",
        "  FP = np.average((1-truth)*pred)\n",
        "  FN = np.average(truth*(1-pred))\n",
        "  TN = np.average((1-truth)*(1-pred))\n",
        "  if TP+FP==0: return 1\n",
        "  return TP / (TP+FP)\n",
        "\n",
        "def f1(pred, truth):\n",
        "  r = recall(pred, truth)\n",
        "  p = precision(pred, truth)\n",
        "  if r+p==0: return 1\n",
        "  return 2*r*p / (r+p)"
      ],
      "execution_count": null,
      "outputs": []
    },
    {
      "cell_type": "code",
      "metadata": {
        "id": "5yehkVdA4v8z"
      },
      "source": [
        "import pandas as pd\n",
        "\n",
        "def predict_images(weights, imgs):\n",
        "  ''' returns the unet's predictions for the given set of images '''\n",
        "\n",
        "  model.load_weights(weights)\n",
        "  return model.predict(imgs)\n",
        "\n",
        "\n",
        "def mass_loss(loss_f, preds, truths):\n",
        "  masses = [loss_f(p,t) for p,t in zip(preds, truths)]\n",
        "  masses = np.asarray(masses, dtype=np.float32)\n",
        "  return masses.flatten()\n",
        "\n",
        "\n",
        "def test_predictions(preds, truths):\n",
        "  ''' prints various metrics which measure the accuracy of the results '''\n",
        "\n",
        "  info = np.array([\n",
        "    [recall, \"Recall\"],\n",
        "    [precision, \"Precision\"],\n",
        "    [f1, \"F1 Score\"],\n",
        "    [tversky_loss, \"Tversky\"],\n",
        "    [dice_loss, \"Dice\"],\n",
        "    [ks.losses.binary_crossentropy, \"BCE\"]\n",
        "  ])\n",
        "  losses = pd.DataFrame(info, columns=[\"obj\", \"desc\"])\n",
        "  accs = []\n",
        "  for indx, row in losses.iterrows():\n",
        "    res = mass_loss(row[\"obj\"], preds, truths)\n",
        "    # print(np.shape(res))\n",
        "    accs.append(pd.DataFrame(res))\n",
        "  losses[\"vals\"] = accs\n",
        "  print(' '*10, '\\tavg\\t\\t', 'std-dev', sep='')\n",
        "  for indx, row in losses.iterrows():\n",
        "    print(\"%10s\\t\" % row[\"desc\"], end='')\n",
        "    print(np.average(row[\"vals\"]), \"\\t\", end='')\n",
        "    print(np.std(row[\"vals\"])[0], \"\\t\", end='')\n",
        "    print()"
      ],
      "execution_count": null,
      "outputs": []
    },
    {
      "cell_type": "code",
      "metadata": {
        "colab": {
          "base_uri": "https://localhost:8080/"
        },
        "id": "LsT2KjojNhFI",
        "outputId": "c5576dc6-4132-4ebf-e091-a81e80ac2ada"
      },
      "source": [
        "# DICE LOSS\n",
        "\n",
        "print(\"9991\")\n",
        "print(\"TRAIN\")\n",
        "print(test_predictions(train_res[:,:,:,0].astype(np.float32), train[1].astype(np.float32)))\n",
        "print()\n",
        "print(\"TEST\")\n",
        "print(test_predictions(test_res[:,:,:,0].astype(np.float32), test[1].astype(np.float32)))\n"
      ],
      "execution_count": null,
      "outputs": [
        {
          "output_type": "stream",
          "text": [
            "9991\n",
            "TRAIN\n",
            "          \tavg\t\tstd-dev\n",
            "    Recall\t0.99403405 \t0.007725747 \t\n",
            " Precision\t0.9908613 \t0.006250404 \t\n",
            "  F1 Score\t0.9924192 \t0.0049210656 \t\n",
            "   Tversky\t0.048579056 \t0.16735314 \t\n",
            "      Dice\t0.022640001 \t0.08450028 \t\n",
            "       BCE\t0.0806313 \t0.0871239 \t\n",
            "None\n",
            "\n",
            "TEST\n",
            "          \tavg\t\tstd-dev\n",
            "    Recall\t0.96868193 \t0.029567799 \t\n",
            " Precision\t0.9598013 \t0.06417818 \t\n",
            "  F1 Score\t0.96329916 \t0.04325862 \t\n",
            "   Tversky\t0.045932837 \t0.035085604 \t\n",
            "      Dice\t0.037232153 \t0.043050904 \t\n",
            "       BCE\t0.18459539 \t0.42649448 \t\n",
            "None\n"
          ],
          "name": "stdout"
        }
      ]
    },
    {
      "cell_type": "code",
      "metadata": {
        "colab": {
          "base_uri": "https://localhost:8080/"
        },
        "id": "i0xUObArSxat",
        "outputId": "d2d2810b-2f6b-4f4e-ce79-5b266f99b38d"
      },
      "source": [
        "# TVERSKY LOSS\n",
        "\n",
        "print(\"9992\")\n",
        "print(\"TRAIN\")\n",
        "print(test_predictions(train_res[:,:,:,0].astype(np.float32), train[1].astype(np.float32)))\n",
        "print()\n",
        "print(\"TEST\")\n",
        "print(test_predictions(test_res[:,:,:,0].astype(np.float32), test[1].astype(np.float32)))\n"
      ],
      "execution_count": null,
      "outputs": [
        {
          "output_type": "stream",
          "text": [
            "9992\n",
            "TRAIN\n",
            "          \tavg\t\tstd-dev\n",
            "    Recall\t0.95134515 \t0.10104248 \t\n",
            " Precision\t0.95902926 \t0.0788545 \t\n",
            "  F1 Score\t0.94936496 \t0.073408954 \t\n",
            "   Tversky\t0.08152964 \t0.1716841 \t\n",
            "      Dice\t0.058324665 \t0.07998395 \t\n",
            "       BCE\t0.19622579 \t0.6438022 \t\n",
            "None\n",
            "\n",
            "TEST\n",
            "          \tavg\t\tstd-dev\n",
            "    Recall\t0.9440822 \t0.0894622 \t\n",
            " Precision\t0.89159065 \t0.14603005 \t\n",
            "  F1 Score\t0.90574914 \t0.097484775 \t\n",
            "   Tversky\t0.08428001 \t0.08407077 \t\n",
            "      Dice\t0.09447692 \t0.097472444 \t\n",
            "       BCE\t0.3568312 \t1.0467283 \t\n",
            "None\n"
          ],
          "name": "stdout"
        }
      ]
    },
    {
      "cell_type": "code",
      "metadata": {
        "colab": {
          "base_uri": "https://localhost:8080/"
        },
        "id": "VOjv772FS4rh",
        "outputId": "c8d37d5b-ea4a-4002-d42b-bd1ee2a4fce2"
      },
      "source": [
        "# BINARY CROSS ENTROPY\n",
        "\n",
        "print(\"9993\")\n",
        "print(\"TRAIN\")\n",
        "print(test_predictions(train_res[:,:,:,0].astype(np.float32), train[1].astype(np.float32)))\n",
        "print()\n",
        "print(\"TEST\")\n",
        "print(test_predictions(test_res[:,:,:,0].astype(np.float32), test[1].astype(np.float32)))\n"
      ],
      "execution_count": null,
      "outputs": [
        {
          "output_type": "stream",
          "text": [
            "9993\n",
            "TRAIN\n",
            "          \tavg\t\tstd-dev\n",
            "    Recall\t0.9884133 \t0.009919202 \t\n",
            " Precision\t0.9930055 \t0.0060097435 \t\n",
            "  F1 Score\t0.99066585 \t0.005509763 \t\n",
            "   Tversky\t0.07034814 \t0.16558875 \t\n",
            "      Dice\t0.039596982 \t0.14665735 \t\n",
            "       BCE\t0.17407888 \t0.1021069 \t\n",
            "None\n",
            "\n",
            "TEST\n",
            "          \tavg\t\tstd-dev\n",
            "    Recall\t0.94339436 \t0.11524859 \t\n",
            " Precision\t0.9545808 \t0.08614106 \t\n",
            "  F1 Score\t0.9473362 \t0.09998493 \t\n",
            "   Tversky\t0.0819247 \t0.101137206 \t\n",
            "      Dice\t0.056864433 \t0.103053376 \t\n",
            "       BCE\t0.2983617 \t0.48786017 \t\n",
            "None\n"
          ],
          "name": "stdout"
        }
      ]
    },
    {
      "cell_type": "code",
      "metadata": {
        "colab": {
          "base_uri": "https://localhost:8080/"
        },
        "id": "HaV3m_9tS-RY",
        "outputId": "1bebc772-24cc-4345-f214-00ea71b7341e"
      },
      "source": [
        "# DICE + BCE\n",
        "\n",
        "print(\"9994\")\n",
        "print(\"TRAIN\")\n",
        "print(test_predictions(train_res[:,:,:,0].astype(np.float32), train[1].astype(np.float32)))\n",
        "print()\n",
        "print(\"TEST\")\n",
        "print(test_predictions(test_res[:,:,:,0].astype(np.float32), test[1].astype(np.float32)))\n"
      ],
      "execution_count": null,
      "outputs": [
        {
          "output_type": "stream",
          "text": [
            "9994\n",
            "TRAIN\n",
            "          \tavg\t\tstd-dev\n",
            "    Recall\t0.976618 \t0.054880172 \t\n",
            " Precision\t0.98476654 \t0.01753585 \t\n",
            "  F1 Score\t0.9796208 \t0.031142289 \t\n",
            "   Tversky\t0.08208416 \t0.1677076 \t\n",
            "      Dice\t0.049761362 \t0.15147011 \t\n",
            "       BCE\t0.21923988 \t0.30185512 \t\n",
            "None\n",
            "\n",
            "TEST\n",
            "          \tavg\t\tstd-dev\n",
            "    Recall\t0.94937795 \t0.09977931 \t\n",
            " Precision\t0.92149967 \t0.110474095 \t\n",
            "  F1 Score\t0.9308512 \t0.09522744 \t\n",
            "   Tversky\t0.090561844 \t0.09070046 \t\n",
            "      Dice\t0.07037102 \t0.09704136 \t\n",
            "       BCE\t0.38399664 \t0.66601634 \t\n",
            "None\n"
          ],
          "name": "stdout"
        }
      ]
    }
  ]
}